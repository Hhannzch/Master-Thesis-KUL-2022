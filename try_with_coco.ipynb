{
  "nbformat": 4,
  "nbformat_minor": 0,
  "metadata": {
    "colab": {
      "name": "baseline.ipynb",
      "provenance": [],
      "include_colab_link": true
    },
    "kernelspec": {
      "name": "python3",
      "language": "python",
      "display_name": "Python 3 (ipykernel)"
    },
    "language_info": {
      "name": "python"
    },
    "accelerator": "GPU",
    "widgets": {
      "application/vnd.jupyter.widget-state+json": {
        "e81eb8468efa4341a87a2872d1e30925": {
          "model_module": "@jupyter-widgets/controls",
          "model_name": "HBoxModel",
          "model_module_version": "1.5.0",
          "state": {
            "_view_name": "HBoxView",
            "_dom_classes": [],
            "_model_name": "HBoxModel",
            "_view_module": "@jupyter-widgets/controls",
            "_model_module_version": "1.5.0",
            "_view_count": null,
            "_view_module_version": "1.5.0",
            "box_style": "",
            "layout": "IPY_MODEL_ca9f64d1163944988cae4e37d7144f15",
            "_model_module": "@jupyter-widgets/controls",
            "children": [
              "IPY_MODEL_732da15186c44352b545823b869dfe12",
              "IPY_MODEL_be65f61ed1c4400d8a0aeeaa376389f0",
              "IPY_MODEL_c2de7458aa304558919fe715cdc21e74"
            ]
          }
        },
        "ca9f64d1163944988cae4e37d7144f15": {
          "model_module": "@jupyter-widgets/base",
          "model_name": "LayoutModel",
          "model_module_version": "1.2.0",
          "state": {
            "_view_name": "LayoutView",
            "grid_template_rows": null,
            "right": null,
            "justify_content": null,
            "_view_module": "@jupyter-widgets/base",
            "overflow": null,
            "_model_module_version": "1.2.0",
            "_view_count": null,
            "flex_flow": null,
            "width": null,
            "min_width": null,
            "border": null,
            "align_items": null,
            "bottom": null,
            "_model_module": "@jupyter-widgets/base",
            "top": null,
            "grid_column": null,
            "overflow_y": null,
            "overflow_x": null,
            "grid_auto_flow": null,
            "grid_area": null,
            "grid_template_columns": null,
            "flex": null,
            "_model_name": "LayoutModel",
            "justify_items": null,
            "grid_row": null,
            "max_height": null,
            "align_content": null,
            "visibility": null,
            "align_self": null,
            "height": null,
            "min_height": null,
            "padding": null,
            "grid_auto_rows": null,
            "grid_gap": null,
            "max_width": null,
            "order": null,
            "_view_module_version": "1.2.0",
            "grid_template_areas": null,
            "object_position": null,
            "object_fit": null,
            "grid_auto_columns": null,
            "margin": null,
            "display": null,
            "left": null
          }
        },
        "732da15186c44352b545823b869dfe12": {
          "model_module": "@jupyter-widgets/controls",
          "model_name": "HTMLModel",
          "model_module_version": "1.5.0",
          "state": {
            "_view_name": "HTMLView",
            "style": "IPY_MODEL_80fb76080aa34a4a9e049c2810b82d3a",
            "_dom_classes": [],
            "description": "",
            "_model_name": "HTMLModel",
            "placeholder": "​",
            "_view_module": "@jupyter-widgets/controls",
            "_model_module_version": "1.5.0",
            "value": "100%",
            "_view_count": null,
            "_view_module_version": "1.5.0",
            "description_tooltip": null,
            "_model_module": "@jupyter-widgets/controls",
            "layout": "IPY_MODEL_f97a179912dd40c8bdb11be805ee2b72"
          }
        },
        "be65f61ed1c4400d8a0aeeaa376389f0": {
          "model_module": "@jupyter-widgets/controls",
          "model_name": "FloatProgressModel",
          "model_module_version": "1.5.0",
          "state": {
            "_view_name": "ProgressView",
            "style": "IPY_MODEL_acb3e509e0404b6ca265ca43c76e41de",
            "_dom_classes": [],
            "description": "",
            "_model_name": "FloatProgressModel",
            "bar_style": "success",
            "max": 241627721,
            "_view_module": "@jupyter-widgets/controls",
            "_model_module_version": "1.5.0",
            "value": 241627721,
            "_view_count": null,
            "_view_module_version": "1.5.0",
            "orientation": "horizontal",
            "min": 0,
            "description_tooltip": null,
            "_model_module": "@jupyter-widgets/controls",
            "layout": "IPY_MODEL_d1f431d8ce614071994105970b560ec2"
          }
        },
        "c2de7458aa304558919fe715cdc21e74": {
          "model_module": "@jupyter-widgets/controls",
          "model_name": "HTMLModel",
          "model_module_version": "1.5.0",
          "state": {
            "_view_name": "HTMLView",
            "style": "IPY_MODEL_0b340a2d5e7b4297911c3e0496c5db4f",
            "_dom_classes": [],
            "description": "",
            "_model_name": "HTMLModel",
            "placeholder": "​",
            "_view_module": "@jupyter-widgets/controls",
            "_model_module_version": "1.5.0",
            "value": " 230M/230M [00:03&lt;00:00, 81.7MB/s]",
            "_view_count": null,
            "_view_module_version": "1.5.0",
            "description_tooltip": null,
            "_model_module": "@jupyter-widgets/controls",
            "layout": "IPY_MODEL_6d5d1b78e5e34a5a8b29794918fd15ad"
          }
        },
        "80fb76080aa34a4a9e049c2810b82d3a": {
          "model_module": "@jupyter-widgets/controls",
          "model_name": "DescriptionStyleModel",
          "model_module_version": "1.5.0",
          "state": {
            "_view_name": "StyleView",
            "_model_name": "DescriptionStyleModel",
            "description_width": "",
            "_view_module": "@jupyter-widgets/base",
            "_model_module_version": "1.5.0",
            "_view_count": null,
            "_view_module_version": "1.2.0",
            "_model_module": "@jupyter-widgets/controls"
          }
        },
        "f97a179912dd40c8bdb11be805ee2b72": {
          "model_module": "@jupyter-widgets/base",
          "model_name": "LayoutModel",
          "model_module_version": "1.2.0",
          "state": {
            "_view_name": "LayoutView",
            "grid_template_rows": null,
            "right": null,
            "justify_content": null,
            "_view_module": "@jupyter-widgets/base",
            "overflow": null,
            "_model_module_version": "1.2.0",
            "_view_count": null,
            "flex_flow": null,
            "width": null,
            "min_width": null,
            "border": null,
            "align_items": null,
            "bottom": null,
            "_model_module": "@jupyter-widgets/base",
            "top": null,
            "grid_column": null,
            "overflow_y": null,
            "overflow_x": null,
            "grid_auto_flow": null,
            "grid_area": null,
            "grid_template_columns": null,
            "flex": null,
            "_model_name": "LayoutModel",
            "justify_items": null,
            "grid_row": null,
            "max_height": null,
            "align_content": null,
            "visibility": null,
            "align_self": null,
            "height": null,
            "min_height": null,
            "padding": null,
            "grid_auto_rows": null,
            "grid_gap": null,
            "max_width": null,
            "order": null,
            "_view_module_version": "1.2.0",
            "grid_template_areas": null,
            "object_position": null,
            "object_fit": null,
            "grid_auto_columns": null,
            "margin": null,
            "display": null,
            "left": null
          }
        },
        "acb3e509e0404b6ca265ca43c76e41de": {
          "model_module": "@jupyter-widgets/controls",
          "model_name": "ProgressStyleModel",
          "model_module_version": "1.5.0",
          "state": {
            "_view_name": "StyleView",
            "_model_name": "ProgressStyleModel",
            "description_width": "",
            "_view_module": "@jupyter-widgets/base",
            "_model_module_version": "1.5.0",
            "_view_count": null,
            "_view_module_version": "1.2.0",
            "bar_color": null,
            "_model_module": "@jupyter-widgets/controls"
          }
        },
        "d1f431d8ce614071994105970b560ec2": {
          "model_module": "@jupyter-widgets/base",
          "model_name": "LayoutModel",
          "model_module_version": "1.2.0",
          "state": {
            "_view_name": "LayoutView",
            "grid_template_rows": null,
            "right": null,
            "justify_content": null,
            "_view_module": "@jupyter-widgets/base",
            "overflow": null,
            "_model_module_version": "1.2.0",
            "_view_count": null,
            "flex_flow": null,
            "width": null,
            "min_width": null,
            "border": null,
            "align_items": null,
            "bottom": null,
            "_model_module": "@jupyter-widgets/base",
            "top": null,
            "grid_column": null,
            "overflow_y": null,
            "overflow_x": null,
            "grid_auto_flow": null,
            "grid_area": null,
            "grid_template_columns": null,
            "flex": null,
            "_model_name": "LayoutModel",
            "justify_items": null,
            "grid_row": null,
            "max_height": null,
            "align_content": null,
            "visibility": null,
            "align_self": null,
            "height": null,
            "min_height": null,
            "padding": null,
            "grid_auto_rows": null,
            "grid_gap": null,
            "max_width": null,
            "order": null,
            "_view_module_version": "1.2.0",
            "grid_template_areas": null,
            "object_position": null,
            "object_fit": null,
            "grid_auto_columns": null,
            "margin": null,
            "display": null,
            "left": null
          }
        },
        "0b340a2d5e7b4297911c3e0496c5db4f": {
          "model_module": "@jupyter-widgets/controls",
          "model_name": "DescriptionStyleModel",
          "model_module_version": "1.5.0",
          "state": {
            "_view_name": "StyleView",
            "_model_name": "DescriptionStyleModel",
            "description_width": "",
            "_view_module": "@jupyter-widgets/base",
            "_model_module_version": "1.5.0",
            "_view_count": null,
            "_view_module_version": "1.2.0",
            "_model_module": "@jupyter-widgets/controls"
          }
        },
        "6d5d1b78e5e34a5a8b29794918fd15ad": {
          "model_module": "@jupyter-widgets/base",
          "model_name": "LayoutModel",
          "model_module_version": "1.2.0",
          "state": {
            "_view_name": "LayoutView",
            "grid_template_rows": null,
            "right": null,
            "justify_content": null,
            "_view_module": "@jupyter-widgets/base",
            "overflow": null,
            "_model_module_version": "1.2.0",
            "_view_count": null,
            "flex_flow": null,
            "width": null,
            "min_width": null,
            "border": null,
            "align_items": null,
            "bottom": null,
            "_model_module": "@jupyter-widgets/base",
            "top": null,
            "grid_column": null,
            "overflow_y": null,
            "overflow_x": null,
            "grid_auto_flow": null,
            "grid_area": null,
            "grid_template_columns": null,
            "flex": null,
            "_model_name": "LayoutModel",
            "justify_items": null,
            "grid_row": null,
            "max_height": null,
            "align_content": null,
            "visibility": null,
            "align_self": null,
            "height": null,
            "min_height": null,
            "padding": null,
            "grid_auto_rows": null,
            "grid_gap": null,
            "max_width": null,
            "order": null,
            "_view_module_version": "1.2.0",
            "grid_template_areas": null,
            "object_position": null,
            "object_fit": null,
            "grid_auto_columns": null,
            "margin": null,
            "display": null,
            "left": null
          }
        }
      }
    }
  },
  "cells": [
    {
      "cell_type": "markdown",
      "metadata": {
        "id": "view-in-github",
        "colab_type": "text"
      },
      "source": [
        "<a href=\"https://colab.research.google.com/github/Hhannzch/show-and-tell-baseline/blob/main/try_with_coco.ipynb\" target=\"_parent\"><img src=\"https://colab.research.google.com/assets/colab-badge.svg\" alt=\"Open In Colab\"/></a>"
      ]
    },
    {
      "cell_type": "markdown",
      "metadata": {
        "id": "G_ujTuQBTjtw"
      },
      "source": [
        "# try with pycocotools"
      ]
    },
    {
      "cell_type": "code",
      "metadata": {
        "colab": {
          "base_uri": "https://localhost:8080/"
        },
        "id": "Wzg8DlEV6C4d",
        "outputId": "23a4ea36-b78a-4c5b-cfe3-dcd04f26d32d"
      },
      "source": [
        "!pip install torch==1.6.0 torchvision==0.7.0"
      ],
      "execution_count": null,
      "outputs": [
        {
          "output_type": "stream",
          "name": "stdout",
          "text": [
            "Collecting torch==1.6.0\n",
            "  Downloading torch-1.6.0-cp37-cp37m-manylinux1_x86_64.whl (748.8 MB)\n",
            "\u001b[K     |████████████████████████████████| 748.8 MB 18 kB/s \n",
            "\u001b[?25hCollecting torchvision==0.7.0\n",
            "  Downloading torchvision-0.7.0-cp37-cp37m-manylinux1_x86_64.whl (5.9 MB)\n",
            "\u001b[K     |████████████████████████████████| 5.9 MB 46.4 MB/s \n",
            "\u001b[?25hRequirement already satisfied: numpy in /usr/local/lib/python3.7/dist-packages (from torch==1.6.0) (1.19.5)\n",
            "Requirement already satisfied: future in /usr/local/lib/python3.7/dist-packages (from torch==1.6.0) (0.16.0)\n",
            "Requirement already satisfied: pillow>=4.1.1 in /usr/local/lib/python3.7/dist-packages (from torchvision==0.7.0) (7.1.2)\n",
            "Installing collected packages: torch, torchvision\n",
            "  Attempting uninstall: torch\n",
            "    Found existing installation: torch 1.9.0+cu111\n",
            "    Uninstalling torch-1.9.0+cu111:\n",
            "      Successfully uninstalled torch-1.9.0+cu111\n",
            "  Attempting uninstall: torchvision\n",
            "    Found existing installation: torchvision 0.10.0+cu111\n",
            "    Uninstalling torchvision-0.10.0+cu111:\n",
            "      Successfully uninstalled torchvision-0.10.0+cu111\n",
            "\u001b[31mERROR: pip's dependency resolver does not currently take into account all the packages that are installed. This behaviour is the source of the following dependency conflicts.\n",
            "torchtext 0.10.0 requires torch==1.9.0, but you have torch 1.6.0 which is incompatible.\u001b[0m\n",
            "Successfully installed torch-1.6.0 torchvision-0.7.0\n"
          ]
        }
      ]
    },
    {
      "cell_type": "code",
      "metadata": {
        "colab": {
          "base_uri": "https://localhost:8080/"
        },
        "id": "Qp2XACyV71cl",
        "outputId": "d396927e-d2e7-4444-8ab2-af3fa1ce49ff"
      },
      "source": [
        "!python"
      ],
      "execution_count": null,
      "outputs": [
        {
          "output_type": "stream",
          "name": "stdout",
          "text": [
            "Python 3.7.12 (default, Sep 10 2021, 00:21:48) \n",
            "[GCC 7.5.0] on linux\n",
            "Type \"help\", \"copyright\", \"credits\" or \"license\" for more information.\n",
            ">>> \n",
            "\n",
            "KeyboardInterrupt\n",
            ">>> ^C\n"
          ]
        }
      ]
    },
    {
      "cell_type": "code",
      "metadata": {
        "colab": {
          "base_uri": "https://localhost:8080/"
        },
        "id": "HwkXdFzXSPvX",
        "outputId": "e7da3ca6-f08a-40cb-fa19-6631b2e64768"
      },
      "source": [
        "from google.colab import drive\n",
        "drive.mount('/content/drive')"
      ],
      "execution_count": 1,
      "outputs": [
        {
          "output_type": "stream",
          "name": "stdout",
          "text": [
            "Mounted at /content/drive\n"
          ]
        }
      ]
    },
    {
      "cell_type": "code",
      "metadata": {
        "colab": {
          "base_uri": "https://localhost:8080/"
        },
        "id": "CHl_gCCFnAsR",
        "outputId": "20dec2e8-6522-4128-ebab-b2a34d528c34"
      },
      "source": [
        "import pycocotools\n",
        "from pycocotools.coco import COCO\n",
        "\n",
        "train_info = '/content/drive/MyDrive/coco/2017/annotations/captions_val2017.json'\n",
        "train_image = '/content/drive/MyDrive/coco/2017/val2017'\n",
        "\n",
        "coco = COCO(train_info)\n",
        "all_ids = coco.imgs.keys()\n",
        "print(len(all_ids))"
      ],
      "execution_count": 2,
      "outputs": [
        {
          "output_type": "stream",
          "name": "stdout",
          "text": [
            "loading annotations into memory...\n",
            "Done (t=1.88s)\n",
            "creating index...\n",
            "index created!\n",
            "5000\n"
          ]
        }
      ]
    },
    {
      "cell_type": "code",
      "metadata": {
        "colab": {
          "base_uri": "https://localhost:8080/",
          "height": 430
        },
        "id": "4lQ1pLpQYop_",
        "outputId": "c7eff921-a95e-4093-960d-a64219600e07"
      },
      "source": [
        "ann_id = list(coco.anns)\n",
        "print(coco.loadAnns(ann_id[0]))\n",
        "image_id = coco.loadAnns(ann_id[2])[0]['image_id']\n",
        "print(image_id)\n",
        "ann_idlist = coco.getAnnIds(image_id)\n",
        "print(ann_idlist)\n",
        "for i in ann_idlist:\n",
        "  print(coco.loadAnns(i))\n",
        "\n",
        "import matplotlib.pyplot as plt\n",
        "img = coco.loadImgs(image_id)\n",
        "print(img)\n",
        "path = train_image + '/' + img[0]['file_name']\n",
        "img_show = plt.imread(path)\n",
        "plt.imshow(img_show)\n",
        "plt.show()\n"
      ],
      "execution_count": 43,
      "outputs": [
        {
          "output_type": "stream",
          "name": "stdout",
          "text": [
            "[{'image_id': 179765, 'id': 38, 'caption': 'A black Honda motorcycle parked in front of a garage.'}]\n",
            "190236\n",
            "[401, 644, 2846, 3464, 4700]\n",
            "[{'image_id': 190236, 'id': 401, 'caption': 'An office cubicle with four different types of computers.'}]\n",
            "[{'image_id': 190236, 'id': 644, 'caption': 'The home office space seems to be very cluttered.'}]\n",
            "[{'image_id': 190236, 'id': 2846, 'caption': 'an office with desk computer and chair and laptop.'}]\n",
            "[{'image_id': 190236, 'id': 3464, 'caption': 'Office setting with a lot of computer screens.'}]\n",
            "[{'image_id': 190236, 'id': 4700, 'caption': 'A desk and chair in an office cubicle.'}]\n",
            "[{'license': 1, 'file_name': '000000190236.jpg', 'coco_url': 'http://images.cocodataset.org/val2017/000000190236.jpg', 'height': 393, 'width': 640, 'date_captured': '2013-11-15 17:09:36', 'flickr_url': 'http://farm1.staticflickr.com/244/535469198_ee68a4b0c1_z.jpg', 'id': 190236}]\n"
          ]
        },
        {
          "output_type": "display_data",
          "data": {
            "image/png": "[encoded data removed]",
            "text/plain": [
              "<Figure size 432x288 with 1 Axes>"
            ]
          },
          "metadata": {
            "needs_background": "light"
          }
        }
      ]
    },
    {
      "cell_type": "code",
      "metadata": {
        "id": "gSIZ9zFaYoI7"
      },
      "source": [
        ""
      ],
      "execution_count": null,
      "outputs": []
    },
    {
      "cell_type": "code",
      "metadata": {
        "colab": {
          "base_uri": "https://localhost:8080/"
        },
        "id": "IUxAavTxqi7V",
        "outputId": "694ad39b-ac24-484d-d5a4-26e40eb2e904"
      },
      "source": [
        "id_list = list(all_ids)\n",
        "print(id_list[1])\n",
        "img_path = coco.loadImgs(id_list[1])"
      ],
      "execution_count": null,
      "outputs": [
        {
          "output_type": "stream",
          "name": "stdout",
          "text": [
            "37777\n"
          ]
        }
      ]
    },
    {
      "cell_type": "code",
      "metadata": {
        "colab": {
          "base_uri": "https://localhost:8080/"
        },
        "id": "JppbUuwptQuP",
        "outputId": "492db4de-79db-41d6-fd4f-656be98c028a"
      },
      "source": [
        "print(img_path[0]['file_name'])"
      ],
      "execution_count": null,
      "outputs": [
        {
          "output_type": "stream",
          "name": "stdout",
          "text": [
            "000000037777.jpg\n"
          ]
        }
      ]
    },
    {
      "cell_type": "code",
      "metadata": {
        "colab": {
          "base_uri": "https://localhost:8080/",
          "height": 236
        },
        "id": "mqTiE4dmqmxD",
        "outputId": "def27647-7c32-4339-e47f-89ef36373cf9"
      },
      "source": [
        "print(img_path)\n",
        "\n",
        "import matplotlib.pyplot as plt\n",
        "img = plt.imread(val_image + '/' + str(img_path[0]['file_name']))\n",
        "plt.imshow(img)\n",
        "plt.show()"
      ],
      "execution_count": null,
      "outputs": [
        {
          "output_type": "error",
          "ename": "NameError",
          "evalue": "ignored",
          "traceback": [
            "\u001b[0;31m---------------------------------------------------------------------------\u001b[0m",
            "\u001b[0;31mNameError\u001b[0m                                 Traceback (most recent call last)",
            "\u001b[0;32m<ipython-input-21-a8d16a3f7ba0>\u001b[0m in \u001b[0;36m<module>\u001b[0;34m()\u001b[0m\n\u001b[0;32m----> 1\u001b[0;31m \u001b[0mprint\u001b[0m\u001b[0;34m(\u001b[0m\u001b[0mimg_path\u001b[0m\u001b[0;34m)\u001b[0m\u001b[0;34m\u001b[0m\u001b[0;34m\u001b[0m\u001b[0m\n\u001b[0m\u001b[1;32m      2\u001b[0m \u001b[0;34m\u001b[0m\u001b[0m\n\u001b[1;32m      3\u001b[0m \u001b[0;32mimport\u001b[0m \u001b[0mmatplotlib\u001b[0m\u001b[0;34m.\u001b[0m\u001b[0mpyplot\u001b[0m \u001b[0;32mas\u001b[0m \u001b[0mplt\u001b[0m\u001b[0;34m\u001b[0m\u001b[0;34m\u001b[0m\u001b[0m\n\u001b[1;32m      4\u001b[0m \u001b[0mimg\u001b[0m \u001b[0;34m=\u001b[0m \u001b[0mplt\u001b[0m\u001b[0;34m.\u001b[0m\u001b[0mimread\u001b[0m\u001b[0;34m(\u001b[0m\u001b[0mval_image\u001b[0m \u001b[0;34m+\u001b[0m \u001b[0;34m'/'\u001b[0m \u001b[0;34m+\u001b[0m \u001b[0mstr\u001b[0m\u001b[0;34m(\u001b[0m\u001b[0mimg_path\u001b[0m\u001b[0;34m[\u001b[0m\u001b[0;36m0\u001b[0m\u001b[0;34m]\u001b[0m\u001b[0;34m[\u001b[0m\u001b[0;34m'file_name'\u001b[0m\u001b[0;34m]\u001b[0m\u001b[0;34m)\u001b[0m\u001b[0;34m)\u001b[0m\u001b[0;34m\u001b[0m\u001b[0;34m\u001b[0m\u001b[0m\n\u001b[1;32m      5\u001b[0m \u001b[0mplt\u001b[0m\u001b[0;34m.\u001b[0m\u001b[0mimshow\u001b[0m\u001b[0;34m(\u001b[0m\u001b[0mimg\u001b[0m\u001b[0;34m)\u001b[0m\u001b[0;34m\u001b[0m\u001b[0;34m\u001b[0m\u001b[0m\n",
            "\u001b[0;31mNameError\u001b[0m: name 'img_path' is not defined"
          ]
        }
      ]
    },
    {
      "cell_type": "code",
      "metadata": {
        "colab": {
          "base_uri": "https://localhost:8080/",
          "height": 236
        },
        "id": "qtn51wPYuEST",
        "outputId": "5e1a8c85-0c4e-4fc6-f8d9-5b1ee32ab7fb"
      },
      "source": [
        "# plt.imshow(img)\n",
        "# plt.show()\n",
        "plt.imshow(img)\n",
        "plt.axis('off')\n",
        "ann = coco.getAnnIds(img_path[0]['id'])\n",
        "# print(ann)\n",
        "anns = coco.loadAnns(ann)\n",
        "print(anns)\n",
        "coco.showAnns(anns)\n",
        "# mask = coco.annToMask(anns[3])\n",
        "# plt.imshow(mask); plt.axis('off')\n"
      ],
      "execution_count": null,
      "outputs": [
        {
          "output_type": "error",
          "ename": "NameError",
          "evalue": "ignored",
          "traceback": [
            "\u001b[0;31m---------------------------------------------------------------------------\u001b[0m",
            "\u001b[0;31mNameError\u001b[0m                                 Traceback (most recent call last)",
            "\u001b[0;32m<ipython-input-20-f465de28cf9c>\u001b[0m in \u001b[0;36m<module>\u001b[0;34m()\u001b[0m\n\u001b[1;32m      1\u001b[0m \u001b[0;31m# plt.imshow(img)\u001b[0m\u001b[0;34m\u001b[0m\u001b[0;34m\u001b[0m\u001b[0;34m\u001b[0m\u001b[0m\n\u001b[1;32m      2\u001b[0m \u001b[0;31m# plt.show()\u001b[0m\u001b[0;34m\u001b[0m\u001b[0;34m\u001b[0m\u001b[0;34m\u001b[0m\u001b[0m\n\u001b[0;32m----> 3\u001b[0;31m \u001b[0mplt\u001b[0m\u001b[0;34m.\u001b[0m\u001b[0mimshow\u001b[0m\u001b[0;34m(\u001b[0m\u001b[0mimg\u001b[0m\u001b[0;34m)\u001b[0m\u001b[0;34m\u001b[0m\u001b[0;34m\u001b[0m\u001b[0m\n\u001b[0m\u001b[1;32m      4\u001b[0m \u001b[0mplt\u001b[0m\u001b[0;34m.\u001b[0m\u001b[0maxis\u001b[0m\u001b[0;34m(\u001b[0m\u001b[0;34m'off'\u001b[0m\u001b[0;34m)\u001b[0m\u001b[0;34m\u001b[0m\u001b[0;34m\u001b[0m\u001b[0m\n\u001b[1;32m      5\u001b[0m \u001b[0mann\u001b[0m \u001b[0;34m=\u001b[0m \u001b[0mcoco\u001b[0m\u001b[0;34m.\u001b[0m\u001b[0mgetAnnIds\u001b[0m\u001b[0;34m(\u001b[0m\u001b[0mimg_path\u001b[0m\u001b[0;34m[\u001b[0m\u001b[0;36m0\u001b[0m\u001b[0;34m]\u001b[0m\u001b[0;34m[\u001b[0m\u001b[0;34m'id'\u001b[0m\u001b[0;34m]\u001b[0m\u001b[0;34m)\u001b[0m\u001b[0;34m\u001b[0m\u001b[0;34m\u001b[0m\u001b[0m\n",
            "\u001b[0;31mNameError\u001b[0m: name 'plt' is not defined"
          ]
        }
      ]
    },
    {
      "cell_type": "markdown",
      "metadata": {
        "id": "FuE2XzMHH4Wb"
      },
      "source": [
        "# package vocabulary"
      ]
    },
    {
      "cell_type": "code",
      "metadata": {
        "id": "oTQPEsLYIAxk"
      },
      "source": [
        "import nltk\n",
        "\n",
        "# create a vocabulary class to package voc\n",
        "\n",
        "class Vocabulary():\n",
        "  def __init__(self):\n",
        "    self.word2ind = {}\n",
        "    self.ind2word = {}\n",
        "    self.inital_index = 0\n",
        "  \n",
        "  def __call__(self, word):\n",
        "    if not word in self.word2ind:\n",
        "      return self.word2ind['<unk>']\n",
        "    else:\n",
        "      return self.word2ind[word]\n",
        "\n",
        "  def __len__(self):\n",
        "    return len(self.word2ind)\n",
        "\n",
        "  def add_word(self, word):\n",
        "    if not word in self.word2ind:\n",
        "      self.word2ind[word] = self.inital_index\n",
        "      self.ind2word[self.inital_index] = word\n",
        "      self.inital_index = self.inital_index + 1\n"
      ],
      "execution_count": 3,
      "outputs": []
    },
    {
      "cell_type": "code",
      "metadata": {
        "colab": {
          "base_uri": "https://localhost:8080/"
        },
        "id": "qDMNqQhiPF6z",
        "outputId": "740a22b4-b1ce-4329-ced6-40c241cf2060"
      },
      "source": [
        "import nltk\n",
        "nltk.download('punkt')"
      ],
      "execution_count": 4,
      "outputs": [
        {
          "output_type": "stream",
          "name": "stdout",
          "text": [
            "[nltk_data] Downloading package punkt to /root/nltk_data...\n",
            "[nltk_data]   Unzipping tokenizers/punkt.zip.\n"
          ]
        },
        {
          "output_type": "execute_result",
          "data": {
            "text/plain": [
              "True"
            ]
          },
          "metadata": {},
          "execution_count": 4
        }
      ]
    },
    {
      "cell_type": "code",
      "metadata": {
        "colab": {
          "base_uri": "https://localhost:8080/"
        },
        "id": "sU7g11-rL_8_",
        "outputId": "2857f49c-ddcc-4864-a393-2da5666c7f44"
      },
      "source": [
        "from collections import Counter\n",
        "captions_all = coco.anns.keys()\n",
        "captions_id = list(captions_all)\n",
        "count = Counter()\n",
        "word_list = []\n",
        "for i, id in enumerate(captions_id):\n",
        "  caption = coco.loadAnns(id)[0]['caption']\n",
        "  # print(caption)\n",
        "  tokens = nltk.tokenize.word_tokenize(caption.lower())\n",
        "  # print(tokens)\n",
        "  count.update(tokens)\n",
        "  if i%10000 == 0:\n",
        "    print(\"finish \" + str(i) +\" tokenized\")\n",
        "  # break\n",
        "\n",
        "for word, cnt in count.items():\n",
        "  if cnt >= 50:\n",
        "    word_list.append(word)"
      ],
      "execution_count": 5,
      "outputs": [
        {
          "output_type": "stream",
          "name": "stdout",
          "text": [
            "finish 0 tokenized\n",
            "finish 10000 tokenized\n",
            "finish 20000 tokenized\n"
          ]
        }
      ]
    },
    {
      "cell_type": "code",
      "metadata": {
        "colab": {
          "base_uri": "https://localhost:8080/"
        },
        "id": "5e-BZczYSMCQ",
        "outputId": "4d566dee-885c-4777-8fd4-9e88051bdfe3"
      },
      "source": [
        "voc = Vocabulary()\n",
        "voc.add_word(\"<pad>\")\n",
        "voc.add_word(\"<unk>\")\n",
        "voc.add_word(\"<sta>\")\n",
        "voc.add_word(\"<end>\")\n",
        "\n",
        "for word in word_list:\n",
        "  voc.add_word(word)\n",
        "\n",
        "print(len(voc))"
      ],
      "execution_count": 6,
      "outputs": [
        {
          "output_type": "stream",
          "name": "stdout",
          "text": [
            "554\n"
          ]
        }
      ]
    },
    {
      "cell_type": "markdown",
      "metadata": {
        "id": "wU6OsO7_UBK7"
      },
      "source": [
        "# preprocessing pictures ====> no need"
      ]
    },
    {
      "cell_type": "code",
      "metadata": {
        "id": "3eJli3d5UA0C"
      },
      "source": [
        "# from PIL import Image\n",
        "# im = Image.open(path)\n",
        "# plt.imshow(im)\n",
        "# plt.show()\n",
        "# im_resize = im.resize((1000,1500),Image.ANTIALIAS)\n",
        "# plt.imshow(im_resize)\n",
        "# plt.show()"
      ],
      "execution_count": null,
      "outputs": []
    },
    {
      "cell_type": "code",
      "metadata": {
        "id": "IBzrcNXv6BVL",
        "colab": {
          "base_uri": "https://localhost:8080/"
        },
        "outputId": "6735f22e-57a0-472f-dcce-b421738d3e30"
      },
      "source": [
        "img_ids = list(coco.imgs.keys())\n",
        "print(coco.loadImgs(img_ids[1])[0])"
      ],
      "execution_count": null,
      "outputs": [
        {
          "output_type": "stream",
          "name": "stdout",
          "text": [
            "{'license': 4, 'file_name': '000000522418.jpg', 'coco_url': 'http://images.cocodataset.org/train2017/000000522418.jpg', 'height': 480, 'width': 640, 'date_captured': '2013-11-14 11:38:44', 'flickr_url': 'http://farm1.staticflickr.com/1/127244861_ab0c0381e7_z.jpg', 'id': 522418}\n"
          ]
        }
      ]
    },
    {
      "cell_type": "code",
      "metadata": {
        "id": "NFPBEaek0HEl"
      },
      "source": [
        "# from PIL import Image\n",
        "# import os\n",
        "# img_ids = list(coco.imgs.keys())\n",
        "# print(img_ids[1])\n",
        "# for (cnt, ids) in enumerate(img_ids):\n",
        "#   img_id = coco.loadImgs(ids)\n",
        "#   pic_dic = train_image + '/' + img_id[0]['file_name']\n",
        "#   im = Image.open(pic_dic)\n",
        "#   im_resize = im.resize((512,512), Image.ANTIALIAS)\n",
        "#   im_resize.save('/content/drive/MyDrive/coco/train_resize2017/' + img_id[0]['file_name'])\n",
        "#   if cnt%5000 == 0:\n",
        "#     print(\"finish resizing \"+ str(cnt) + \" pictures\")\n",
        "\n",
        "\n",
        "\n",
        "\n",
        "\n"
      ],
      "execution_count": null,
      "outputs": []
    },
    {
      "cell_type": "markdown",
      "metadata": {
        "id": "hxFf6zyu-NDK"
      },
      "source": [
        "# package dataset"
      ]
    },
    {
      "cell_type": "code",
      "metadata": {
        "colab": {
          "base_uri": "https://localhost:8080/"
        },
        "id": "SA_l77S4-O_8",
        "outputId": "ef53a18d-d7a8-4d7c-d410-3bbd5e848560"
      },
      "source": [
        "from PIL import Image\n",
        "img_ids = list(coco.imgs.keys())\n",
        "for i in range(10):\n",
        "  img = coco.loadImgs(img_ids[i])\n",
        "  print(img)"
      ],
      "execution_count": null,
      "outputs": [
        {
          "output_type": "stream",
          "name": "stdout",
          "text": [
            "[{'license': 3, 'file_name': '000000391895.jpg', 'coco_url': 'http://images.cocodataset.org/train2017/000000391895.jpg', 'height': 360, 'width': 640, 'date_captured': '2013-11-14 11:18:45', 'flickr_url': 'http://farm9.staticflickr.com/8186/8119368305_4e622c8349_z.jpg', 'id': 391895}]\n",
            "[{'license': 4, 'file_name': '000000522418.jpg', 'coco_url': 'http://images.cocodataset.org/train2017/000000522418.jpg', 'height': 480, 'width': 640, 'date_captured': '2013-11-14 11:38:44', 'flickr_url': 'http://farm1.staticflickr.com/1/127244861_ab0c0381e7_z.jpg', 'id': 522418}]\n",
            "[{'license': 3, 'file_name': '000000184613.jpg', 'coco_url': 'http://images.cocodataset.org/train2017/000000184613.jpg', 'height': 336, 'width': 500, 'date_captured': '2013-11-14 12:36:29', 'flickr_url': 'http://farm3.staticflickr.com/2169/2118578392_1193aa04a0_z.jpg', 'id': 184613}]\n",
            "[{'license': 3, 'file_name': '000000318219.jpg', 'coco_url': 'http://images.cocodataset.org/train2017/000000318219.jpg', 'height': 640, 'width': 556, 'date_captured': '2013-11-14 13:02:53', 'flickr_url': 'http://farm5.staticflickr.com/4125/5094763076_813ea2751b_z.jpg', 'id': 318219}]\n",
            "[{'license': 3, 'file_name': '000000554625.jpg', 'coco_url': 'http://images.cocodataset.org/train2017/000000554625.jpg', 'height': 640, 'width': 426, 'date_captured': '2013-11-14 16:03:19', 'flickr_url': 'http://farm5.staticflickr.com/4086/5094162993_8f59d8a473_z.jpg', 'id': 554625}]\n",
            "[{'license': 3, 'file_name': '000000574769.jpg', 'coco_url': 'http://images.cocodataset.org/train2017/000000574769.jpg', 'height': 640, 'width': 480, 'date_captured': '2013-11-14 17:07:59', 'flickr_url': 'http://farm8.staticflickr.com/7010/6728227647_3d5a0d55ee_z.jpg', 'id': 574769}]\n",
            "[{'license': 4, 'file_name': '000000060623.jpg', 'coco_url': 'http://images.cocodataset.org/train2017/000000060623.jpg', 'height': 427, 'width': 640, 'date_captured': '2013-11-14 17:24:15', 'flickr_url': 'http://farm7.staticflickr.com/6080/6113512699_37b4c98473_z.jpg', 'id': 60623}]\n",
            "[{'license': 2, 'file_name': '000000309022.jpg', 'coco_url': 'http://images.cocodataset.org/train2017/000000309022.jpg', 'height': 480, 'width': 640, 'date_captured': '2013-11-14 17:28:23', 'flickr_url': 'http://farm4.staticflickr.com/3790/10167396295_e63f2856d0_z.jpg', 'id': 309022}]\n",
            "[{'license': 2, 'file_name': '000000005802.jpg', 'coco_url': 'http://images.cocodataset.org/train2017/000000005802.jpg', 'height': 479, 'width': 640, 'date_captured': '2013-11-14 17:28:25', 'flickr_url': 'http://farm4.staticflickr.com/3810/9614287841_1b724dbbc5_z.jpg', 'id': 5802}]\n",
            "[{'license': 2, 'file_name': '000000222564.jpg', 'coco_url': 'http://images.cocodataset.org/train2017/000000222564.jpg', 'height': 480, 'width': 640, 'date_captured': '2013-11-14 17:30:34', 'flickr_url': 'http://farm8.staticflickr.com/7390/10166966765_c96225b556_z.jpg', 'id': 222564}]\n"
          ]
        }
      ]
    },
    {
      "cell_type": "code",
      "metadata": {
        "colab": {
          "base_uri": "https://localhost:8080/"
        },
        "id": "PEcwdk0OR4NP",
        "outputId": "dad5eb04-a701-4921-aa31-068752ccd41c"
      },
      "source": [
        "a = list(coco.anns.keys())\n",
        "print(coco.loadAnns(a[0]))\n",
        "print(coco.loadImgs(coco.loadAnns(a[0])[0]['image_id']))"
      ],
      "execution_count": 55,
      "outputs": [
        {
          "output_type": "stream",
          "name": "stdout",
          "text": [
            "[{'image_id': 179765, 'id': 38, 'caption': 'A black Honda motorcycle parked in front of a garage.'}]\n",
            "[{'license': 3, 'file_name': '000000179765.jpg', 'coco_url': 'http://images.cocodataset.org/val2017/000000179765.jpg', 'height': 480, 'width': 640, 'date_captured': '2013-11-15 14:02:51', 'flickr_url': 'http://farm3.staticflickr.com/2824/10213933686_6936eb402b_z.jpg', 'id': 179765}]\n"
          ]
        }
      ]
    },
    {
      "cell_type": "code",
      "metadata": {
        "id": "VkZ0c5fBLWf5",
        "outputId": "05f051e8-8fb4-441b-806c-23d5cd03687c",
        "colab": {
          "base_uri": "https://localhost:8080/",
          "height": 320
        }
      },
      "source": [
        "from PIL import Image\n",
        "import matplotlib.pyplot as plt\n",
        "import numpy as np\n",
        "test = Image.open(train_image + '/' + '000000431848.jpg')\n",
        "test1 = Image.open(train_image + '/' + '000000179765.jpg')\n",
        "\n",
        "sh = plt.imread(train_image + '/' + '000000431848.jpg')\n",
        "plt.imshow(sh)\n",
        "plt.show()\n",
        "\n",
        "ar = np.asarray(test)\n",
        "x = np.ones((ar.shape[0], ar.shape[1], 3))\n",
        "x[:,:,0] = ar\n",
        "x[:,:,1] = ar\n",
        "x[:,:,2] = ar\n",
        "\n",
        "print(ar.shape)\n",
        "print(x.shape)\n",
        "print(np.asarray(test1).shape)"
      ],
      "execution_count": 97,
      "outputs": [
        {
          "output_type": "display_data",
          "data": {
            "image/png": "[encoded data removed]",
            "text/plain": [
              "<Figure size 432x288 with 1 Axes>"
            ]
          },
          "metadata": {
            "needs_background": "light"
          }
        },
        {
          "output_type": "stream",
          "name": "stdout",
          "text": [
            "(640, 378)\n",
            "(640, 378, 3)\n",
            "(480, 640, 3)\n"
          ]
        }
      ]
    },
    {
      "cell_type": "code",
      "metadata": {
        "id": "WXtw64IQQsz8"
      },
      "source": [
        "# package my dataset\n",
        "import torch\n",
        "from PIL import Image\n",
        "import numpy as np\n",
        "\n",
        "class cocoData(torch.utils.data.Dataset):\n",
        "  def __init__(self, transform = None):\n",
        "    self.ids = list(coco.anns.keys())\n",
        "    self.transform = transform\n",
        "\n",
        "  def __getitem__(self, ind):\n",
        "    id = self.ids[ind]\n",
        "    image_id = coco.loadAnns(id)[0]['image_id']\n",
        "    caption_pre = str(coco.loadAnns(id)[0]['caption'])\n",
        "    image_info = coco.loadImgs(image_id)\n",
        "    image_path = image_info[0]['file_name']\n",
        "\n",
        "    im = Image.open(train_image + '/' + image_path)\n",
        "\n",
        "    # im = np.asarray(im)\n",
        "    image_dim_len = len(np.array(im).shape)\n",
        "    if image_dim_len == 2:\n",
        "      # len(imgs_data.shape) == 2\n",
        "      ar = np.asarray(im, dtype=np.uint8)\n",
        "      x = np.ones((ar.shape[0], ar.shape[1], 3))\n",
        "      x[:,:,0] = ar\n",
        "      x[:,:,1] = ar\n",
        "      x[:,:,2] = ar\n",
        "      im = Image.fromarray(x, mode='RGB')\n",
        "\n",
        "\n",
        "      # ar = np.asarray(test)\n",
        "      # x = np.ones((ar.shape[0], ar.shape[1], 3))\n",
        "      # x[:,:,0] = ar\n",
        "      # x[:,:,1] = ar\n",
        "      # x[:,:,2] = ar\n",
        "    \n",
        "    # if im.shape[2] == 1:\n",
        "    #   im = np.repeat(im[:,:,np.newaxis], 3, axis=2)\n",
        "    #   im = self.transform(Image.fromarray(im))\n",
        "\n",
        "    # imgs_data = self.transform(imgs_data[:, np.newaxis]).reshape(1, 4096)\n",
        "    if self.transform is not None:\n",
        "      im = self.transform(im)\n",
        "\n",
        "    tokens = nltk.tokenize.word_tokenize(caption_pre.lower())\n",
        "    caption = []\n",
        "    caption.append(voc('<start>'))\n",
        "    # timer = 0\n",
        "    # for i in tokens:\n",
        "    #   timer += 1\n",
        "    #   if timer<=20:\n",
        "    #     caption.append(voc(i))\n",
        "    #   else:\n",
        "    #     break\n",
        "    \n",
        "    # caption.append(voc('<end>'))\n",
        "    # while timer<=20:\n",
        "    #   caption.append(voc('<pad>'))\n",
        "    #   timer += 1\n",
        "\n",
        "    for i in tokens:\n",
        "      caption.append(voc(i))\n",
        "    caption.append(voc('<end>'))\n",
        "\n",
        "    caption_final = torch.Tensor(caption)\n",
        "    return im, caption_final\n",
        "\n",
        "  def __len__(self):\n",
        "    return len(self.ids)"
      ],
      "execution_count": 105,
      "outputs": []
    },
    {
      "cell_type": "code",
      "metadata": {
        "id": "TbSQ2o6PWu4D"
      },
      "source": [
        "def collate_fn(data):\n",
        "    \"\"\"Creates mini-batch tensors from the list of tuples (image, caption).\n",
        "    \n",
        "    We should build custom collate_fn rather than using default collate_fn, \n",
        "    because merging caption (including padding) is not supported in default.\n",
        "    Args:\n",
        "        data: list of tuple (image, caption). \n",
        "            - image: torch tensor of shape (3, 256, 256).\n",
        "            - caption: torch tensor of shape (?); variable length.\n",
        "    Returns:\n",
        "        images: torch tensor of shape (batch_size, 3, 256, 256).\n",
        "        targets: torch tensor of shape (batch_size, padded_length).\n",
        "        lengths: list; valid length for each padded caption.\n",
        "    \"\"\"\n",
        "    # Sort a data list by caption length (descending order).\n",
        "    data.sort(key=lambda x: len(x[1]), reverse=True)\n",
        "    images, captions = zip(*data)\n",
        "\n",
        "    # Merge images (from tuple of 3D tensor to 4D tensor).\n",
        "    images = torch.stack(images, 0)\n",
        "\n",
        "    # Merge captions (from tuple of 1D tensor to 2D tensor).\n",
        "    lengths = [len(cap) for cap in captions]\n",
        "    targets = torch.zeros(len(captions), max(lengths)).long()\n",
        "    for i, cap in enumerate(captions):\n",
        "        end = lengths[i]\n",
        "        targets[i, :end] = cap[:end]        \n",
        "    return images, targets, lengths"
      ],
      "execution_count": 99,
      "outputs": []
    },
    {
      "cell_type": "code",
      "metadata": {
        "id": "XD2Evj4oWZCz"
      },
      "source": [
        "from torchvision import transforms, utils\n",
        "import torch.utils.data as data\n",
        "dataset = cocoData(transform=transforms.Compose([transforms.Resize((256,256)), transforms.ToTensor()]))\n",
        "train_data = torch.utils.data.DataLoader(dataset, batch_size=128, shuffle=True, num_workers=2, collate_fn=collate_fn)"
      ],
      "execution_count": 106,
      "outputs": []
    },
    {
      "cell_type": "code",
      "metadata": {
        "colab": {
          "base_uri": "https://localhost:8080/"
        },
        "id": "f9WJpWNcZAWH",
        "outputId": "0f54bb07-759d-4822-8033-08bef055f23f"
      },
      "source": [
        "print(len(dataset))"
      ],
      "execution_count": 10,
      "outputs": [
        {
          "output_type": "stream",
          "name": "stdout",
          "text": [
            "25014\n"
          ]
        }
      ]
    },
    {
      "cell_type": "code",
      "metadata": {
        "colab": {
          "base_uri": "https://localhost:8080/",
          "height": 1000
        },
        "id": "EcFxx_oCbi6S",
        "outputId": "b2bcd8ce-d51f-4733-c625-41036da7b4c3"
      },
      "source": [
        "# print(dataset[0][0].size()) # the input of image data is 3 dimensions RGB image with 512*512 pixels\n",
        "\n",
        "for i, (a,b,c) in enumerate(train_data):\n",
        "  print(str(i)+ str(a.shape))"
      ],
      "execution_count": 107,
      "outputs": [
        {
          "output_type": "stream",
          "name": "stdout",
          "text": [
            "0torch.Size([128, 3, 256, 256])\n",
            "1torch.Size([128, 3, 256, 256])\n",
            "2torch.Size([128, 3, 256, 256])\n",
            "3torch.Size([128, 3, 256, 256])\n",
            "4torch.Size([128, 3, 256, 256])\n",
            "5torch.Size([128, 3, 256, 256])\n",
            "6torch.Size([128, 3, 256, 256])\n",
            "7torch.Size([128, 3, 256, 256])\n",
            "8torch.Size([128, 3, 256, 256])\n",
            "9torch.Size([128, 3, 256, 256])\n",
            "10torch.Size([128, 3, 256, 256])\n",
            "11torch.Size([128, 3, 256, 256])\n",
            "12torch.Size([128, 3, 256, 256])\n",
            "13torch.Size([128, 3, 256, 256])\n",
            "14torch.Size([128, 3, 256, 256])\n",
            "15torch.Size([128, 3, 256, 256])\n",
            "16torch.Size([128, 3, 256, 256])\n",
            "17torch.Size([128, 3, 256, 256])\n",
            "18torch.Size([128, 3, 256, 256])\n",
            "19torch.Size([128, 3, 256, 256])\n",
            "20torch.Size([128, 3, 256, 256])\n",
            "21torch.Size([128, 3, 256, 256])\n",
            "22torch.Size([128, 3, 256, 256])\n",
            "23torch.Size([128, 3, 256, 256])\n",
            "24torch.Size([128, 3, 256, 256])\n",
            "25torch.Size([128, 3, 256, 256])\n",
            "26torch.Size([128, 3, 256, 256])\n",
            "27torch.Size([128, 3, 256, 256])\n",
            "28torch.Size([128, 3, 256, 256])\n",
            "29torch.Size([128, 3, 256, 256])\n",
            "30torch.Size([128, 3, 256, 256])\n",
            "31torch.Size([128, 3, 256, 256])\n",
            "32torch.Size([128, 3, 256, 256])\n",
            "33torch.Size([128, 3, 256, 256])\n",
            "34torch.Size([128, 3, 256, 256])\n",
            "35torch.Size([128, 3, 256, 256])\n",
            "36torch.Size([128, 3, 256, 256])\n",
            "37torch.Size([128, 3, 256, 256])\n",
            "38torch.Size([128, 3, 256, 256])\n",
            "39torch.Size([128, 3, 256, 256])\n",
            "40torch.Size([128, 3, 256, 256])\n",
            "41torch.Size([128, 3, 256, 256])\n",
            "42torch.Size([128, 3, 256, 256])\n",
            "43torch.Size([128, 3, 256, 256])\n",
            "44torch.Size([128, 3, 256, 256])\n",
            "45torch.Size([128, 3, 256, 256])\n",
            "46torch.Size([128, 3, 256, 256])\n"
          ]
        },
        {
          "output_type": "error",
          "ename": "OSError",
          "evalue": "ignored",
          "traceback": [
            "\u001b[0;31m---------------------------------------------------------------------------\u001b[0m",
            "\u001b[0;31mOSError\u001b[0m                                   Traceback (most recent call last)",
            "\u001b[0;32m<ipython-input-107-3524c3e97511>\u001b[0m in \u001b[0;36m<module>\u001b[0;34m()\u001b[0m\n\u001b[1;32m      1\u001b[0m \u001b[0;31m# print(dataset[0][0].size()) # the input of image data is 3 dimensions RGB image with 512*512 pixels\u001b[0m\u001b[0;34m\u001b[0m\u001b[0;34m\u001b[0m\u001b[0;34m\u001b[0m\u001b[0m\n\u001b[1;32m      2\u001b[0m \u001b[0;34m\u001b[0m\u001b[0m\n\u001b[0;32m----> 3\u001b[0;31m \u001b[0;32mfor\u001b[0m \u001b[0mi\u001b[0m\u001b[0;34m,\u001b[0m \u001b[0;34m(\u001b[0m\u001b[0ma\u001b[0m\u001b[0;34m,\u001b[0m\u001b[0mb\u001b[0m\u001b[0;34m,\u001b[0m\u001b[0mc\u001b[0m\u001b[0;34m)\u001b[0m \u001b[0;32min\u001b[0m \u001b[0menumerate\u001b[0m\u001b[0;34m(\u001b[0m\u001b[0mtrain_data\u001b[0m\u001b[0;34m)\u001b[0m\u001b[0;34m:\u001b[0m\u001b[0;34m\u001b[0m\u001b[0;34m\u001b[0m\u001b[0m\n\u001b[0m\u001b[1;32m      4\u001b[0m   \u001b[0mprint\u001b[0m\u001b[0;34m(\u001b[0m\u001b[0mstr\u001b[0m\u001b[0;34m(\u001b[0m\u001b[0mi\u001b[0m\u001b[0;34m)\u001b[0m\u001b[0;34m+\u001b[0m \u001b[0mstr\u001b[0m\u001b[0;34m(\u001b[0m\u001b[0ma\u001b[0m\u001b[0;34m.\u001b[0m\u001b[0mshape\u001b[0m\u001b[0;34m)\u001b[0m\u001b[0;34m)\u001b[0m\u001b[0;34m\u001b[0m\u001b[0;34m\u001b[0m\u001b[0m\n",
            "\u001b[0;32m/usr/local/lib/python3.7/dist-packages/torch/utils/data/dataloader.py\u001b[0m in \u001b[0;36m__next__\u001b[0;34m(self)\u001b[0m\n\u001b[1;32m    519\u001b[0m             \u001b[0;32mif\u001b[0m \u001b[0mself\u001b[0m\u001b[0;34m.\u001b[0m\u001b[0m_sampler_iter\u001b[0m \u001b[0;32mis\u001b[0m \u001b[0;32mNone\u001b[0m\u001b[0;34m:\u001b[0m\u001b[0;34m\u001b[0m\u001b[0;34m\u001b[0m\u001b[0m\n\u001b[1;32m    520\u001b[0m                 \u001b[0mself\u001b[0m\u001b[0;34m.\u001b[0m\u001b[0m_reset\u001b[0m\u001b[0;34m(\u001b[0m\u001b[0;34m)\u001b[0m\u001b[0;34m\u001b[0m\u001b[0;34m\u001b[0m\u001b[0m\n\u001b[0;32m--> 521\u001b[0;31m             \u001b[0mdata\u001b[0m \u001b[0;34m=\u001b[0m \u001b[0mself\u001b[0m\u001b[0;34m.\u001b[0m\u001b[0m_next_data\u001b[0m\u001b[0;34m(\u001b[0m\u001b[0;34m)\u001b[0m\u001b[0;34m\u001b[0m\u001b[0;34m\u001b[0m\u001b[0m\n\u001b[0m\u001b[1;32m    522\u001b[0m             \u001b[0mself\u001b[0m\u001b[0;34m.\u001b[0m\u001b[0m_num_yielded\u001b[0m \u001b[0;34m+=\u001b[0m \u001b[0;36m1\u001b[0m\u001b[0;34m\u001b[0m\u001b[0;34m\u001b[0m\u001b[0m\n\u001b[1;32m    523\u001b[0m             \u001b[0;32mif\u001b[0m \u001b[0mself\u001b[0m\u001b[0;34m.\u001b[0m\u001b[0m_dataset_kind\u001b[0m \u001b[0;34m==\u001b[0m \u001b[0m_DatasetKind\u001b[0m\u001b[0;34m.\u001b[0m\u001b[0mIterable\u001b[0m \u001b[0;32mand\u001b[0m\u001b[0;31m \u001b[0m\u001b[0;31m\\\u001b[0m\u001b[0;34m\u001b[0m\u001b[0;34m\u001b[0m\u001b[0m\n",
            "\u001b[0;32m/usr/local/lib/python3.7/dist-packages/torch/utils/data/dataloader.py\u001b[0m in \u001b[0;36m_next_data\u001b[0;34m(self)\u001b[0m\n\u001b[1;32m   1201\u001b[0m             \u001b[0;32melse\u001b[0m\u001b[0;34m:\u001b[0m\u001b[0;34m\u001b[0m\u001b[0;34m\u001b[0m\u001b[0m\n\u001b[1;32m   1202\u001b[0m                 \u001b[0;32mdel\u001b[0m \u001b[0mself\u001b[0m\u001b[0;34m.\u001b[0m\u001b[0m_task_info\u001b[0m\u001b[0;34m[\u001b[0m\u001b[0midx\u001b[0m\u001b[0;34m]\u001b[0m\u001b[0;34m\u001b[0m\u001b[0;34m\u001b[0m\u001b[0m\n\u001b[0;32m-> 1203\u001b[0;31m                 \u001b[0;32mreturn\u001b[0m \u001b[0mself\u001b[0m\u001b[0;34m.\u001b[0m\u001b[0m_process_data\u001b[0m\u001b[0;34m(\u001b[0m\u001b[0mdata\u001b[0m\u001b[0;34m)\u001b[0m\u001b[0;34m\u001b[0m\u001b[0;34m\u001b[0m\u001b[0m\n\u001b[0m\u001b[1;32m   1204\u001b[0m \u001b[0;34m\u001b[0m\u001b[0m\n\u001b[1;32m   1205\u001b[0m     \u001b[0;32mdef\u001b[0m \u001b[0m_try_put_index\u001b[0m\u001b[0;34m(\u001b[0m\u001b[0mself\u001b[0m\u001b[0;34m)\u001b[0m\u001b[0;34m:\u001b[0m\u001b[0;34m\u001b[0m\u001b[0;34m\u001b[0m\u001b[0m\n",
            "\u001b[0;32m/usr/local/lib/python3.7/dist-packages/torch/utils/data/dataloader.py\u001b[0m in \u001b[0;36m_process_data\u001b[0;34m(self, data)\u001b[0m\n\u001b[1;32m   1227\u001b[0m         \u001b[0mself\u001b[0m\u001b[0;34m.\u001b[0m\u001b[0m_try_put_index\u001b[0m\u001b[0;34m(\u001b[0m\u001b[0;34m)\u001b[0m\u001b[0;34m\u001b[0m\u001b[0;34m\u001b[0m\u001b[0m\n\u001b[1;32m   1228\u001b[0m         \u001b[0;32mif\u001b[0m \u001b[0misinstance\u001b[0m\u001b[0;34m(\u001b[0m\u001b[0mdata\u001b[0m\u001b[0;34m,\u001b[0m \u001b[0mExceptionWrapper\u001b[0m\u001b[0;34m)\u001b[0m\u001b[0;34m:\u001b[0m\u001b[0;34m\u001b[0m\u001b[0;34m\u001b[0m\u001b[0m\n\u001b[0;32m-> 1229\u001b[0;31m             \u001b[0mdata\u001b[0m\u001b[0;34m.\u001b[0m\u001b[0mreraise\u001b[0m\u001b[0;34m(\u001b[0m\u001b[0;34m)\u001b[0m\u001b[0;34m\u001b[0m\u001b[0;34m\u001b[0m\u001b[0m\n\u001b[0m\u001b[1;32m   1230\u001b[0m         \u001b[0;32mreturn\u001b[0m \u001b[0mdata\u001b[0m\u001b[0;34m\u001b[0m\u001b[0;34m\u001b[0m\u001b[0m\n\u001b[1;32m   1231\u001b[0m \u001b[0;34m\u001b[0m\u001b[0m\n",
            "\u001b[0;32m/usr/local/lib/python3.7/dist-packages/torch/_utils.py\u001b[0m in \u001b[0;36mreraise\u001b[0;34m(self)\u001b[0m\n\u001b[1;32m    423\u001b[0m             \u001b[0;31m# have message field\u001b[0m\u001b[0;34m\u001b[0m\u001b[0;34m\u001b[0m\u001b[0;34m\u001b[0m\u001b[0m\n\u001b[1;32m    424\u001b[0m             \u001b[0;32mraise\u001b[0m \u001b[0mself\u001b[0m\u001b[0;34m.\u001b[0m\u001b[0mexc_type\u001b[0m\u001b[0;34m(\u001b[0m\u001b[0mmessage\u001b[0m\u001b[0;34m=\u001b[0m\u001b[0mmsg\u001b[0m\u001b[0;34m)\u001b[0m\u001b[0;34m\u001b[0m\u001b[0;34m\u001b[0m\u001b[0m\n\u001b[0;32m--> 425\u001b[0;31m         \u001b[0;32mraise\u001b[0m \u001b[0mself\u001b[0m\u001b[0;34m.\u001b[0m\u001b[0mexc_type\u001b[0m\u001b[0;34m(\u001b[0m\u001b[0mmsg\u001b[0m\u001b[0;34m)\u001b[0m\u001b[0;34m\u001b[0m\u001b[0;34m\u001b[0m\u001b[0m\n\u001b[0m\u001b[1;32m    426\u001b[0m \u001b[0;34m\u001b[0m\u001b[0m\n\u001b[1;32m    427\u001b[0m \u001b[0;34m\u001b[0m\u001b[0m\n",
            "\u001b[0;31mOSError\u001b[0m: Caught OSError in DataLoader worker process 1.\nOriginal Traceback (most recent call last):\n  File \"/usr/local/lib/python3.7/dist-packages/torch/utils/data/_utils/worker.py\", line 287, in _worker_loop\n    data = fetcher.fetch(index)\n  File \"/usr/local/lib/python3.7/dist-packages/torch/utils/data/_utils/fetch.py\", line 44, in fetch\n    data = [self.dataset[idx] for idx in possibly_batched_index]\n  File \"/usr/local/lib/python3.7/dist-packages/torch/utils/data/_utils/fetch.py\", line 44, in <listcomp>\n    data = [self.dataset[idx] for idx in possibly_batched_index]\n  File \"<ipython-input-105-2190f4ebd48a>\", line 18, in __getitem__\n    im = Image.open(train_image + '/' + image_path)\n  File \"/usr/local/lib/python3.7/dist-packages/PIL/Image.py\", line 2852, in open\n    prefix = fp.read(16)\nOSError: [Errno 5] Input/output error\n"
          ]
        }
      ]
    },
    {
      "cell_type": "code",
      "metadata": {
        "id": "GCHH9pL2kHXg",
        "outputId": "6e967a64-5c85-4ebb-a811-348f87c94144",
        "colab": {
          "base_uri": "https://localhost:8080/"
        }
      },
      "source": [
        "print(len(train_data))"
      ],
      "execution_count": 117,
      "outputs": [
        {
          "output_type": "stream",
          "name": "stdout",
          "text": [
            "6254\n"
          ]
        }
      ]
    },
    {
      "cell_type": "markdown",
      "metadata": {
        "id": "Ak8iv-nK-FoY"
      },
      "source": [
        "# CNN + LSTM model"
      ]
    },
    {
      "cell_type": "code",
      "metadata": {
        "id": "-iN5l99y-Eum"
      },
      "source": [
        "# construct \n",
        "import torch.nn as nn\n",
        "import torchvision.models as models\n",
        "from torch.nn.utils.rnn import pack_padded_sequence\n",
        "\n",
        "device = 'cuda' if torch.cuda.is_available() else 'cpu'\n",
        "\n",
        "class Encoder(nn.Module):\n",
        "  def __init__(self, embed_size=256):\n",
        "    super(Encoder, self).__init__()\n",
        "    resnet = models.resnet152(pretrained=True)\n",
        "    modules = list(resnet.children())[:-1]\n",
        "    self.resnet = nn.Sequential(*modules)\n",
        "    print(resnet.fc.in_features)\n",
        "    self.linear = nn.Linear(resnet.fc.in_features, embed_size)\n",
        "    self.bn = nn.BatchNorm1d(embed_size, momentum=0.01)\n",
        "\n",
        "  def forward(self, images):\n",
        "    with torch.no_grad():\n",
        "      features = self.resnet(images)\n",
        "    features = features.reshape(features.size(0), -1)\n",
        "    features = self.bn(self.linear(features))\n",
        "    # features = self.linear(features)\n",
        "    # print(features)\n",
        "    return features\n",
        "\n",
        "class Decoder(nn.Module): \n",
        "  def __init__(self, embed_size=256, hidden_size=512, voc_size=len(voc), num_layers=1, max_length=20):\n",
        "    super(Decoder,self).__init__()\n",
        "    self.embed = nn.Embedding(voc_size, embed_size)\n",
        "    self.lstm = nn.LSTM(embed_size, hidden_size, num_layers=2, batch_first=True)\n",
        "    self.linear = nn.Linear(hidden_size, voc_size)\n",
        "    self.max_length = max_length\n",
        "\n",
        "  def forward(self, features, captions, lengths):\n",
        "    embeddings = self.embed(captions)\n",
        "    embeddings = torch.cat((features.unsqueeze(1), embeddings), 1)\n",
        "    packed = pack_padded_sequence(embeddings, lengths, batch_first=True) \n",
        "    hiddens, _ = self.lstm(packed)\n",
        "    outputs = self.linear(hiddens[0])\n",
        "    # print(outputs.shape)\n",
        "    return outputs\n",
        "\n",
        "  def sample(self, features, states=None):\n",
        "    \"\"\"Generate captions for given image features using greedy search.\"\"\"\n",
        "    sampled_ids = []\n",
        "    inputs = features.unsqueeze(1)\n",
        "    for i in range(self.max_seg_length):\n",
        "        hiddens, states = self.lstm(inputs, states)          # hiddens: (batch_size, 1, hidden_size)\n",
        "        outputs = self.linear(hiddens.squeeze(1))            # outputs:  (batch_size, vocab_size)\n",
        "        _, predicted = outputs.max(1)                        # predicted: (batch_size)\n",
        "        sampled_ids.append(predicted)\n",
        "        inputs = self.embed(predicted)                       # inputs: (batch_size, embed_size)\n",
        "        inputs = inputs.unsqueeze(1)                         # inputs: (batch_size, 1, embed_size)\n",
        "    sampled_ids = torch.stack(sampled_ids, 1)                # sampled_ids: (batch_size, max_seq_length)\n",
        "    return sampled_ids\n",
        "\n",
        "\n"
      ],
      "execution_count": 108,
      "outputs": []
    },
    {
      "cell_type": "code",
      "metadata": {
        "colab": {
          "base_uri": "https://localhost:8080/",
          "height": 83,
          "referenced_widgets": [
            "e81eb8468efa4341a87a2872d1e30925",
            "ca9f64d1163944988cae4e37d7144f15",
            "732da15186c44352b545823b869dfe12",
            "be65f61ed1c4400d8a0aeeaa376389f0",
            "c2de7458aa304558919fe715cdc21e74",
            "80fb76080aa34a4a9e049c2810b82d3a",
            "f97a179912dd40c8bdb11be805ee2b72",
            "acb3e509e0404b6ca265ca43c76e41de",
            "d1f431d8ce614071994105970b560ec2",
            "0b340a2d5e7b4297911c3e0496c5db4f",
            "6d5d1b78e5e34a5a8b29794918fd15ad"
          ]
        },
        "id": "ZDbdZwRrgCKg",
        "outputId": "849c49e3-e02f-4b7e-cd31-f4385aba8564"
      },
      "source": [
        "encoder = Encoder().to(device)"
      ],
      "execution_count": 109,
      "outputs": [
        {
          "output_type": "stream",
          "name": "stderr",
          "text": [
            "Downloading: \"https://download.pytorch.org/models/resnet152-394f9c45.pth\" to /root/.cache/torch/hub/checkpoints/resnet152-394f9c45.pth\n"
          ]
        },
        {
          "output_type": "display_data",
          "data": {
            "application/vnd.jupyter.widget-view+json": {
              "model_id": "e81eb8468efa4341a87a2872d1e30925",
              "version_minor": 0,
              "version_major": 2
            },
            "text/plain": [
              "  0%|          | 0.00/230M [00:00<?, ?B/s]"
            ]
          },
          "metadata": {}
        },
        {
          "output_type": "stream",
          "name": "stdout",
          "text": [
            "2048\n"
          ]
        }
      ]
    },
    {
      "cell_type": "code",
      "metadata": {
        "id": "qAb2pme8g7Qs"
      },
      "source": [
        "decoder = Decoder().to(device)"
      ],
      "execution_count": 110,
      "outputs": []
    },
    {
      "cell_type": "code",
      "metadata": {
        "id": "8A8zpmuphc-_"
      },
      "source": [
        "criterion = nn.CrossEntropyLoss()\n",
        "params = list(decoder.parameters()) + list(encoder.linear.parameters()) + list(encoder.bn.parameters())\n",
        "optimizer = torch.optim.Adam(params, lr=0.001)"
      ],
      "execution_count": 111,
      "outputs": []
    },
    {
      "cell_type": "code",
      "metadata": {
        "colab": {
          "base_uri": "https://localhost:8080/"
        },
        "id": "cH50ANGHhznb",
        "outputId": "4bb7d5e9-d325-4c3c-a34e-82a41fc56647"
      },
      "source": [
        "total_step = len(train_data)\n",
        "for epoch in range(5):\n",
        "  for i, (images, captions, length) in enumerate(train_data):\n",
        "    images = images.to(device)\n",
        "    captions = captions.to(device)\n",
        "    targets = pack_padded_sequence(captions, length, batch_first=True)[0]\n",
        "\n",
        "    features = encoder(images)\n",
        "    # features = torch.tensor(features).to(device).long()\n",
        "    outputs = decoder(features, captions, length)\n",
        "    # print(outputs.shape)\n",
        "    # print(targets.shape)\n",
        "    loss = criterion(outputs, targets)\n",
        "\n",
        "    encoder.zero_grad()\n",
        "    decoder.zero_grad()\n",
        "    loss.backward()\n",
        "    optimizer.step()\n",
        "\n",
        "    running_loss = 0\n",
        "    running_loss += loss.item()\n",
        "    \"\"\" print training loss per 500 batch\"\"\"\n",
        "    if i % 5 == 0: \n",
        "      print('[%d, %5d] loss: %.3f' % (epoch + 1, i + 1, running_loss / 5))\n",
        "      running_loss = 0.0"
      ],
      "execution_count": 113,
      "outputs": [
        {
          "output_type": "stream",
          "name": "stdout",
          "text": [
            "[1,     1] loss: 0.878\n",
            "[1,     6] loss: 0.858\n",
            "[1,    11] loss: 0.820\n",
            "[1,    16] loss: 0.787\n",
            "[1,    21] loss: 0.773\n",
            "[1,    26] loss: 0.750\n",
            "[1,    31] loss: 0.730\n",
            "[1,    36] loss: 0.708\n",
            "[1,    41] loss: 0.681\n",
            "[1,    46] loss: 0.657\n",
            "[1,    51] loss: 0.670\n",
            "[1,    56] loss: 0.652\n",
            "[1,    61] loss: 0.647\n",
            "[1,    66] loss: 0.646\n",
            "[1,    71] loss: 0.650\n",
            "[1,    76] loss: 0.616\n",
            "[1,    81] loss: 0.617\n",
            "[1,    86] loss: 0.613\n",
            "[1,    91] loss: 0.598\n",
            "[1,    96] loss: 0.613\n",
            "[1,   101] loss: 0.600\n",
            "[1,   106] loss: 0.589\n",
            "[1,   111] loss: 0.592\n",
            "[1,   116] loss: 0.589\n",
            "[1,   121] loss: 0.585\n",
            "[1,   126] loss: 0.577\n",
            "[1,   131] loss: 0.572\n",
            "[1,   136] loss: 0.566\n",
            "[1,   141] loss: 0.562\n",
            "[1,   146] loss: 0.569\n",
            "[1,   151] loss: 0.579\n",
            "[1,   156] loss: 0.556\n",
            "[1,   161] loss: 0.563\n",
            "[1,   166] loss: 0.553\n",
            "[1,   171] loss: 0.557\n",
            "[1,   176] loss: 0.552\n",
            "[1,   181] loss: 0.557\n",
            "[1,   186] loss: 0.557\n",
            "[1,   191] loss: 0.551\n",
            "[1,   196] loss: 0.552\n",
            "[2,     1] loss: 0.540\n",
            "[2,     6] loss: 0.529\n",
            "[2,    11] loss: 0.509\n",
            "[2,    16] loss: 0.534\n",
            "[2,    21] loss: 0.541\n",
            "[2,    26] loss: 0.529\n",
            "[2,    31] loss: 0.518\n",
            "[2,    36] loss: 0.533\n",
            "[2,    41] loss: 0.542\n",
            "[2,    46] loss: 0.530\n",
            "[2,    51] loss: 0.532\n",
            "[2,    56] loss: 0.518\n",
            "[2,    61] loss: 0.521\n",
            "[2,    66] loss: 0.527\n",
            "[2,    71] loss: 0.518\n",
            "[2,    76] loss: 0.525\n",
            "[2,    81] loss: 0.508\n",
            "[2,    86] loss: 0.523\n",
            "[2,    91] loss: 0.509\n",
            "[2,    96] loss: 0.511\n",
            "[2,   101] loss: 0.490\n",
            "[2,   106] loss: 0.500\n",
            "[2,   111] loss: 0.510\n",
            "[2,   116] loss: 0.487\n",
            "[2,   121] loss: 0.478\n",
            "[2,   126] loss: 0.493\n",
            "[2,   131] loss: 0.504\n",
            "[2,   136] loss: 0.476\n",
            "[2,   141] loss: 0.469\n",
            "[2,   146] loss: 0.484\n",
            "[2,   151] loss: 0.495\n",
            "[2,   156] loss: 0.482\n",
            "[2,   161] loss: 0.484\n",
            "[2,   166] loss: 0.470\n",
            "[2,   171] loss: 0.480\n",
            "[2,   176] loss: 0.494\n",
            "[2,   181] loss: 0.497\n",
            "[2,   186] loss: 0.467\n",
            "[2,   191] loss: 0.470\n",
            "[2,   196] loss: 0.476\n",
            "[3,     1] loss: 0.481\n",
            "[3,     6] loss: 0.456\n",
            "[3,    11] loss: 0.471\n",
            "[3,    16] loss: 0.465\n",
            "[3,    21] loss: 0.464\n",
            "[3,    26] loss: 0.458\n",
            "[3,    31] loss: 0.471\n",
            "[3,    36] loss: 0.480\n",
            "[3,    41] loss: 0.455\n",
            "[3,    46] loss: 0.480\n",
            "[3,    51] loss: 0.455\n",
            "[3,    56] loss: 0.483\n",
            "[3,    61] loss: 0.467\n",
            "[3,    66] loss: 0.445\n",
            "[3,    71] loss: 0.444\n",
            "[3,    76] loss: 0.449\n",
            "[3,    81] loss: 0.458\n",
            "[3,    86] loss: 0.459\n",
            "[3,    91] loss: 0.472\n",
            "[3,    96] loss: 0.454\n",
            "[3,   101] loss: 0.435\n",
            "[3,   106] loss: 0.466\n",
            "[3,   111] loss: 0.435\n",
            "[3,   116] loss: 0.467\n",
            "[3,   121] loss: 0.456\n",
            "[3,   126] loss: 0.460\n",
            "[3,   131] loss: 0.437\n",
            "[3,   136] loss: 0.439\n",
            "[3,   141] loss: 0.448\n",
            "[3,   146] loss: 0.460\n",
            "[3,   151] loss: 0.429\n",
            "[3,   156] loss: 0.454\n",
            "[3,   161] loss: 0.445\n",
            "[3,   166] loss: 0.446\n",
            "[3,   171] loss: 0.442\n",
            "[3,   176] loss: 0.438\n",
            "[3,   181] loss: 0.444\n",
            "[3,   186] loss: 0.437\n",
            "[3,   191] loss: 0.453\n",
            "[3,   196] loss: 0.459\n",
            "[4,     1] loss: 0.421\n",
            "[4,     6] loss: 0.432\n",
            "[4,    11] loss: 0.421\n",
            "[4,    16] loss: 0.448\n",
            "[4,    21] loss: 0.444\n",
            "[4,    26] loss: 0.426\n",
            "[4,    31] loss: 0.416\n",
            "[4,    36] loss: 0.422\n",
            "[4,    41] loss: 0.425\n",
            "[4,    46] loss: 0.440\n",
            "[4,    51] loss: 0.429\n",
            "[4,    56] loss: 0.441\n",
            "[4,    61] loss: 0.445\n",
            "[4,    66] loss: 0.416\n",
            "[4,    71] loss: 0.436\n",
            "[4,    76] loss: 0.432\n",
            "[4,    81] loss: 0.409\n",
            "[4,    86] loss: 0.428\n",
            "[4,    91] loss: 0.407\n",
            "[4,    96] loss: 0.430\n",
            "[4,   101] loss: 0.434\n",
            "[4,   106] loss: 0.417\n",
            "[4,   111] loss: 0.427\n",
            "[4,   116] loss: 0.419\n",
            "[4,   121] loss: 0.419\n",
            "[4,   126] loss: 0.416\n",
            "[4,   131] loss: 0.418\n",
            "[4,   136] loss: 0.403\n",
            "[4,   141] loss: 0.417\n",
            "[4,   146] loss: 0.386\n",
            "[4,   151] loss: 0.401\n",
            "[4,   156] loss: 0.424\n",
            "[4,   161] loss: 0.425\n",
            "[4,   166] loss: 0.417\n",
            "[4,   171] loss: 0.422\n",
            "[4,   176] loss: 0.427\n",
            "[4,   181] loss: 0.418\n",
            "[4,   186] loss: 0.422\n",
            "[4,   191] loss: 0.397\n",
            "[4,   196] loss: 0.405\n",
            "[5,     1] loss: 0.394\n",
            "[5,     6] loss: 0.425\n",
            "[5,    11] loss: 0.402\n",
            "[5,    16] loss: 0.404\n",
            "[5,    21] loss: 0.407\n",
            "[5,    26] loss: 0.394\n",
            "[5,    31] loss: 0.395\n",
            "[5,    36] loss: 0.402\n",
            "[5,    41] loss: 0.383\n",
            "[5,    46] loss: 0.411\n",
            "[5,    51] loss: 0.388\n",
            "[5,    56] loss: 0.394\n",
            "[5,    61] loss: 0.405\n",
            "[5,    66] loss: 0.413\n",
            "[5,    71] loss: 0.389\n",
            "[5,    76] loss: 0.401\n",
            "[5,    81] loss: 0.412\n",
            "[5,    86] loss: 0.409\n",
            "[5,    91] loss: 0.405\n",
            "[5,    96] loss: 0.393\n",
            "[5,   101] loss: 0.401\n",
            "[5,   106] loss: 0.395\n",
            "[5,   111] loss: 0.399\n",
            "[5,   116] loss: 0.403\n",
            "[5,   121] loss: 0.387\n",
            "[5,   126] loss: 0.410\n",
            "[5,   131] loss: 0.401\n",
            "[5,   136] loss: 0.401\n",
            "[5,   141] loss: 0.395\n",
            "[5,   146] loss: 0.404\n",
            "[5,   151] loss: 0.399\n",
            "[5,   156] loss: 0.400\n",
            "[5,   161] loss: 0.428\n",
            "[5,   166] loss: 0.397\n",
            "[5,   171] loss: 0.407\n",
            "[5,   176] loss: 0.398\n",
            "[5,   181] loss: 0.389\n",
            "[5,   186] loss: 0.402\n",
            "[5,   191] loss: 0.398\n",
            "[5,   196] loss: 0.390\n"
          ]
        }
      ]
    }
  ]
}